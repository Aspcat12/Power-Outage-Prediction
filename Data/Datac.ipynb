{
 "cells": [
  {
   "cell_type": "code",
   "execution_count": null,
   "metadata": {},
   "outputs": [],
   "source": [
    "import pandas as pd\n"
   ]
  },
  {
   "cell_type": "code",
   "execution_count": null,
   "metadata": {},
   "outputs": [],
   "source": [
    "Data = pd.read_excel('event occurred(filtered).xlsx',sheet_name='Sheet1')\n",
    "tumbon = pd.read_excel('ละติจูดลองจิจูด-ของแต่ละตำบล.xlsx',sheet_name='Sheet1')"
   ]
  },
  {
   "cell_type": "code",
   "execution_count": null,
   "metadata": {},
   "outputs": [],
   "source": [
    "Data"
   ]
  },
  {
   "cell_type": "code",
   "execution_count": null,
   "metadata": {},
   "outputs": [],
   "source": [
    "MatchD = Data['MATCH DATA AT ROW (ROW+1)'][1]\n",
    "tmp=pd.read_csv('C:/Users/Kittipos/Desktop/py/filtered/' + 'ต. ตะกุกเหนือ' + '.csv')\n"
   ]
  },
  {
   "cell_type": "code",
   "execution_count": null,
   "metadata": {},
   "outputs": [],
   "source": [
    "tmp"
   ]
  },
  {
   "cell_type": "code",
   "execution_count": null,
   "metadata": {},
   "outputs": [],
   "source": [
    "tmp['date_time'][MatchD-1]"
   ]
  },
  {
   "cell_type": "code",
   "execution_count": null,
   "metadata": {},
   "outputs": [],
   "source": [
    "\n",
    "def Call_SD(list):\n",
    "    avg = sum(list)/len(list)\n",
    "    X=0\n",
    "    for value in list:\n",
    "        X += (value-avg)**2\n",
    "    return (X/(len(list)-1))**(1/2)\n",
    "\n",
    "def ChangeVAR1(name,method,col_list):\n",
    "    tmp=pd.read_csv('C:/Users/Kittipos/Desktop/py/filtered/' + name + '.csv')\n",
    "    for row in range(len(Data)):\n",
    "        if Data['FILE NAME TO USE'][row] == name :\n",
    "            ## ใช้ search function แทนได้ แต่ในกรณีนี้เรารู้ว่าข้อมูลที่ต้องการใช้อยู่ตำแหน่งใดแล้ว\n",
    "            MatchD = Data['MATCH DATA AT ROW (ROW+1)'][row] ## match function in excel minus one = row match in python\n",
    "            ## Start if method part\n",
    "            if method == 'Call_SD' :\n",
    "                for col_name in col_list:\n",
    "                    ## Run method SD for between +-1 hours\n",
    "                    Value_list=[tmp[col_name][MatchD],tmp[col_name][MatchD - 1],tmp[col_name][MatchD - 2]]\n",
    "                    Data.loc[row,'SD_'+col_name] = Call_SD(Value_list)\n",
    "            # if method == 'avg' :\n",
    "            #     for col_name in col_list:\n",
    "            #         ## Run method avg\n",
    "            #         Data.loc[row,'avg_'+col_name] = \n",
    "\n",
    "            \n",
    "\n",
    "        "
   ]
  },
  {
   "cell_type": "code",
   "execution_count": null,
   "metadata": {},
   "outputs": [],
   "source": [
    "def ChangeVAR(Data,name,col_list):\n",
    "    tmp=pd.read_csv('C:/Users/Kittipos/Desktop/py/filtered/' + name + '.csv')\n",
    "    for row in range(len(Data)):\n",
    "        ## ส่วนสำหรับแก้ไขข้อมูล\n",
    "        if Data['FILE NAME TO USE'][row] == name :\n",
    "            # use MatchD or another search Function\n",
    "            MatchD = Data['MATCH DATA AT ROW (ROW+1)'][row] ## match function in excel minus one = row match in python\n",
    "            if tmp['date_time'][MatchD-1] == str(Data['DATE AND TIME NEEDED'][row]):\n",
    "                for col_name in col_list:\n",
    "                    Data.loc[row, col_name] = tmp[col_name][MatchD - 1]\n",
    "\n",
    "Data_to_change = pd.read_excel('event occurred.xlsx',sheet_name='Sheet1')\n",
    "ALL_tumbon = pd.read_excel('ละติจูดลองจิจูด-ของแต่ละตำบล.xlsx',sheet_name='Sheet1')\n",
    "\n",
    "col_list = []\n",
    "for row in range(len(ALL_tumbon)):\n",
    "    ChangeVAR(Data_to_change,ALL_tumbon['ALT NAME'][row],col_list)"
   ]
  },
  {
   "cell_type": "code",
   "execution_count": null,
   "metadata": {},
   "outputs": [],
   "source": [
    "Data_to_change"
   ]
  },
  {
   "cell_type": "code",
   "execution_count": null,
   "metadata": {},
   "outputs": [],
   "source": [
    "Data_to_change.to_excel('excel_c.xlsx',index=False)"
   ]
  },
  {
   "cell_type": "code",
   "execution_count": null,
   "metadata": {},
   "outputs": [],
   "source": [
    "## Create Col for method SD\n",
    "col_list = ['maxtempC','mintempC']\n",
    "for col_name in col_list:\n",
    "    Data['SD_'+col_name]='Change this to number'\n",
    "## Run Call_SD method\n",
    "for x in range(len(tumbon)):\n",
    "    ChangeVAR1(tumbon['ALT NAME'][x],'Call_SD',col_list)"
   ]
  },
  {
   "cell_type": "code",
   "execution_count": null,
   "metadata": {},
   "outputs": [],
   "source": [
    "Data"
   ]
  },
  {
   "cell_type": "code",
   "execution_count": null,
   "metadata": {},
   "outputs": [],
   "source": [
    "Data.to_excel('2.xlsx',index=False)"
   ]
  }
 ],
 "metadata": {
  "kernelspec": {
   "display_name": "Python 3",
   "language": "python",
   "name": "python3"
  },
  "language_info": {
   "codemirror_mode": {
    "name": "ipython",
    "version": 3
   },
   "file_extension": ".py",
   "mimetype": "text/x-python",
   "name": "python",
   "nbconvert_exporter": "python",
   "pygments_lexer": "ipython3",
   "version": "3.11.4"
  }
 },
 "nbformat": 4,
 "nbformat_minor": 2
}
